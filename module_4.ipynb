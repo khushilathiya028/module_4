{
 "cells": [
  {
   "cell_type": "code",
   "execution_count": 2,
   "id": "90d10016",
   "metadata": {},
   "outputs": [],
   "source": [
    "# (1) What is File function in python? What is keywords to create and write file.\n",
    "\n",
    "\n",
    "#              The key function for working with files in Python is the open() function. \n",
    "#              The open() function takes two parameters; filename, and mode.\n",
    "#              There are four different methods (modes) for opening a file: \"r\" - Read - Default value.\n",
    "#              Opens a file for reading, error if the file does not exist.\n",
    "\n",
    "#                   r----------------------------Open a file for reading. (default)\n",
    "#                   w----------------------------Open a file for writing. Creates a new file if it \n",
    "#                                                does not exist or truncates the file if it exists.\n",
    "#                   x----------------------------open a file for exclusive creation. If the file \n",
    "#                                                already exists, the operation fails."
   ]
  },
  {
   "cell_type": "code",
   "execution_count": 6,
   "id": "163bc85e",
   "metadata": {},
   "outputs": [
    {
     "name": "stdout",
     "output_type": "stream",
     "text": [
      "hello, i am khushi.my father name is sanjaybhai. my mother name is sangitaben. thankyou for read.\n",
      "\n"
     ]
    }
   ],
   "source": [
    "# (2) Write a Python program to read an entire text file.\n",
    "\n",
    "fp=open(\"demo.txt\",\"r\")\n",
    "print(fp.read())\n",
    "fp.close()"
   ]
  },
  {
   "cell_type": "code",
   "execution_count": 13,
   "id": "ce71d609",
   "metadata": {},
   "outputs": [
    {
     "name": "stdout",
     "output_type": "stream",
     "text": [
      "hello, i am khushi.my father name is sanjaybhai. my mother name is sangitaben. thankyou for read.\n",
      "my brother name is nirmitmy brother name is nirmitmy brother name is nirmitmy brother name is nirmitmy brother name is nirmit.\n"
     ]
    }
   ],
   "source": [
    "# (3) Write a Python program to append text to a file and display the text\n",
    "\n",
    "fp=open(\"demo.txt\",\"a\")\n",
    "fp.write(\"my brother name is nirmit.\")\n",
    "fp.close()\n",
    "fp=open(\"demo.txt\",\"r\")\n",
    "print(fp.read())\n",
    "fp.close()"
   ]
  },
  {
   "cell_type": "code",
   "execution_count": 15,
   "id": "bfa3fa05",
   "metadata": {},
   "outputs": [
    {
     "name": "stdout",
     "output_type": "stream",
     "text": [
      "hello, i am khushi.\n"
     ]
    }
   ],
   "source": [
    "# (4) Write a Python program to read first n lines of a file.\n",
    "\n",
    "fp=open(\"demo.txt\",\"r\")             #file opne with read mood\n",
    "print(fp.read(19))                  #file readlines\n",
    "fp.close()"
   ]
  },
  {
   "cell_type": "code",
   "execution_count": 21,
   "id": "0e4e4b7b",
   "metadata": {},
   "outputs": [
    {
     "name": "stdout",
     "output_type": "stream",
     "text": [
      "enter a number :1\n",
      "['my brother name is nirmitmy brother name is nirmitmy brother name is nirmitmy brother name is nirmitmy brother name is nirmit.']\n"
     ]
    }
   ],
   "source": [
    "# (5) Write a Python program to read last n lines of a file.\n",
    "n=int(input(\"enter a number :\"))\n",
    "fp=open(\"demo.txt\",\"r\")      #file opne with read mood\n",
    "lines=fp.readlines()\n",
    "print(lines[-n:])\n",
    "fp.close()"
   ]
  },
  {
   "cell_type": "code",
   "execution_count": 2,
   "id": "44b7ab7c",
   "metadata": {},
   "outputs": [
    {
     "name": "stdout",
     "output_type": "stream",
     "text": [
      "['hello, i am khushi.my father name is sanjaybhai. my mother name is sangitaben. thankyou for read.\\n', 'my brother name is nirmitmy brother name is nirmitmy brother name is nirmitmy brother name is nirmitmy brother name is nirmit.']\n"
     ]
    }
   ],
   "source": [
    "# (6) Write a Python program to read a file line by line and store it into a list\n",
    "fp=open(\"demo.txt\",\"r\")\n",
    "lines=fp.readlines()\n",
    "print(lines)"
   ]
  },
  {
   "cell_type": "code",
   "execution_count": 3,
   "id": "76afcf45",
   "metadata": {},
   "outputs": [
    {
     "name": "stdout",
     "output_type": "stream",
     "text": [
      "varibale lines= ['hello, i am khushi.my father name is sanjaybhai. my mother name is sangitaben. thankyou for read.\\n', 'my brother name is nirmitmy brother name is nirmitmy brother name is nirmitmy brother name is nirmitmy brother name is nirmit.']\n"
     ]
    }
   ],
   "source": [
    "# (7) Write a Python program to read a file line by line store it into a variable. \n",
    "fp=open(\"demo.txt\",\"r\")\n",
    "lines=fp.readlines()\n",
    "print(\"varibale lines=\",lines)"
   ]
  },
  {
   "cell_type": "code",
   "execution_count": 10,
   "id": "108eb751",
   "metadata": {},
   "outputs": [
    {
     "name": "stdout",
     "output_type": "stream",
     "text": [
      "enter a number :2\n",
      "enter a string :hey\n",
      "enter a string :khushilathiya\n",
      "khushilathiya\n"
     ]
    }
   ],
   "source": [
    "# (8) Write a python program to find the longest words.\n",
    "n=int(input(\"enter a number :\"))\n",
    "list1=[]    #creat empty list\n",
    "for i in range(n):\n",
    "    str1=input(\"enter a string :\")\n",
    "    list1.append(str1)   #use append to creat list\n",
    "    s=sorted(list1,key=len)    #sort the words is increasing\n",
    "print(list1[-1])   # s varible ,#print last word    "
   ]
  },
  {
   "cell_type": "code",
   "execution_count": 1,
   "id": "c00b088d",
   "metadata": {},
   "outputs": [
    {
     "name": "stdout",
     "output_type": "stream",
     "text": [
      "Total Number of lines: 2\n"
     ]
    }
   ],
   "source": [
    "# (9) Write a Python program to count the number of lines in a text file.\n",
    "\n",
    "with open(r\"demo.txt\", 'r') as fp:\n",
    "    lines = len(fp.readlines())\n",
    "    print('Total Number of lines:', lines)"
   ]
  },
  {
   "cell_type": "code",
   "execution_count": 2,
   "id": "87cd6a17",
   "metadata": {},
   "outputs": [
    {
     "name": "stdout",
     "output_type": "stream",
     "text": [
      "Number of words in the file : Counter({'name': 7, 'is': 7, 'brother': 5, 'nirmitmy': 4, 'my': 2, 'hello,': 1, 'i': 1, 'am': 1, 'khushi.my': 1, 'father': 1, 'sanjaybhai.': 1, 'mother': 1, 'sangitaben.': 1, 'thankyou': 1, 'for': 1, 'read.': 1, 'nirmit.': 1})\n"
     ]
    }
   ],
   "source": [
    "# (10) Write a Python program to count the frequency of words in a file.\n",
    "\n",
    "from collections import Counter\n",
    "def word_count(fname):\n",
    "        with open(fname) as f:\n",
    "                return Counter(f.read().split())\n",
    "\n",
    "print(\"Number of words in the file :\",word_count(\"demo.txt\"))"
   ]
  },
  {
   "cell_type": "code",
   "execution_count": 8,
   "id": "d4d57bf7",
   "metadata": {},
   "outputs": [
    {
     "name": "stdout",
     "output_type": "stream",
     "text": [
      "Jessa,Eric,Bob\n"
     ]
    }
   ],
   "source": [
    "# (11) Write a Python program to write a list to a file.\n",
    "\n",
    "names = ['Jessa', 'Eric', 'Bob']                 # list of names\n",
    "with open(r'demo.txt', 'w') as fp:              # open file in write mode\n",
    "    for item in names:\n",
    "        fp.write(\"%s\\n\" % item)                   # write each item on a new line\n",
    "    print('Jessa,Eric,Bob')"
   ]
  },
  {
   "cell_type": "code",
   "execution_count": null,
   "id": "e6dc4bfc",
   "metadata": {},
   "outputs": [],
   "source": [
    "# (12) Write a Python program to copy the contents of a file to another file.\n",
    "\n",
    "#                    Explanation: There has to be at least one except statement."
   ]
  },
  {
   "cell_type": "code",
   "execution_count": null,
   "id": "f1beb8a5",
   "metadata": {},
   "outputs": [],
   "source": [
    "# (13) Explain Exception handling? What is an Error in Python? \n",
    "\n",
    "#                    An exception is an event, which occurs during \n",
    "#                   the execution of a program that disrupts the normal flow of the program's instructions.\n",
    "#                  In general, when a Python script encounters a situation that it cannot cope with, it raises an exception.\n",
    "#                   An exception is a Python object that represents an error."
   ]
  },
  {
   "cell_type": "code",
   "execution_count": null,
   "id": "d14401d5",
   "metadata": {},
   "outputs": [],
   "source": [
    "# (14) How many except statements can a try-except block have? Name Some built-in exception classes:\n",
    "\n",
    "#                      There has to be at least one except statement.\n",
    "#                      1) ArithmeticException\n",
    "#                      2) ArrayIndexOutOfBoundsException\n",
    "#                      3) ClassCastException\n",
    "#                      4) NumberFormatException\n",
    "#                      5) SecurityException\n",
    "#                      6) UnsupportedOperationException etc..."
   ]
  },
  {
   "cell_type": "code",
   "execution_count": null,
   "id": "626d1865",
   "metadata": {},
   "outputs": [],
   "source": [
    "# (15) When will the else part of try-except-else be executed?\n",
    "\n",
    "#                 Explanation: The else part is executed when no exception occurs."
   ]
  },
  {
   "cell_type": "code",
   "execution_count": null,
   "id": "538d3958",
   "metadata": {},
   "outputs": [],
   "source": [
    "# (16) Can one block of except statements handle multiple exception? \n",
    "\n",
    "#                 In Python, try-except blocks can be used to catch and respond to one or multiple exceptions.\n",
    "#                 In cases where a process raises more than one possible exception,\n",
    "#                 they can all be handled using a single except clause."
   ]
  },
  {
   "cell_type": "code",
   "execution_count": null,
   "id": "dfea5891",
   "metadata": {},
   "outputs": [],
   "source": [
    "# (17) When is the finally block executed?\n",
    "\n",
    "#                  The finally block always executes when the try block exits. \n",
    "#                  This ensures that the finally block is executed even if an unexpected exception occurs."
   ]
  },
  {
   "cell_type": "code",
   "execution_count": null,
   "id": "80157e52",
   "metadata": {},
   "outputs": [],
   "source": [
    "# (18) What happens when „1‟== 1 is executed? \n",
    "\n",
    "#                   Explanation: What happens when „1‟== 1 is executed?"
   ]
  },
  {
   "cell_type": "code",
   "execution_count": null,
   "id": "438b5fc6",
   "metadata": {},
   "outputs": [],
   "source": [
    "# (19) How Do You Handle Exceptions With Try/Except/Finally In Python? Explain with coding snippets. \n",
    "\n",
    "#                   Exception handling with try, except, else, and finally\n",
    "#                   First try clause is executed i.e. the code between try and except clause. If there is no exception, \n",
    "#                   then only try clause will run, except clause will not get executed. \n",
    "#                   If any exception occurs, the try clause will be skipped and except clause will run.   "
   ]
  },
  {
   "cell_type": "code",
   "execution_count": 12,
   "id": "9c8d7b6c",
   "metadata": {},
   "outputs": [
    {
     "name": "stdout",
     "output_type": "stream",
     "text": [
      "Enter a number: 4\n",
      "This is an even number.\n"
     ]
    }
   ],
   "source": [
    "# (20) Write python program that user to enter only odd numbers, else will raise an exception. \n",
    "\n",
    "num = int(input(\"Enter a number: \"))\n",
    "mod = num % 2\n",
    "if mod > 0:\n",
    "    print(\"This is an odd number.\")\n",
    "else:\n",
    "    print(\"This is an even number.\")"
   ]
  },
  {
   "cell_type": "code",
   "execution_count": null,
   "id": "8a07d116",
   "metadata": {},
   "outputs": [],
   "source": [
    "# (21) What are oops concepts? Is multiple inheritance supported in java\n",
    "\n",
    "#                    Inheritance is one of the core concepts of Object-Oriented Programming. \n",
    "#                    Multiple Inheritance is the process in which a subclass inherits more than one superclass. \n",
    "#                    Java does not support Multiple Inheritance; however, \n",
    "#                    Java interfaces help us achieve Multiple Inheritance of type in Java"
   ]
  },
  {
   "cell_type": "code",
   "execution_count": null,
   "id": "12e93580",
   "metadata": {},
   "outputs": [],
   "source": [
    "# (22) How to Define a Class in Python? What Is Self? Give An Example Of A Python Class \n",
    "\n",
    "#                    self represents the instance of the class.\n",
    "#                    By using the “self”  we can access the attributes and methods of the class in python. \n",
    "#                    It binds the attributes with the given arguments"
   ]
  },
  {
   "cell_type": "code",
   "execution_count": 1,
   "id": "e72e139e",
   "metadata": {},
   "outputs": [
    {
     "name": "stdout",
     "output_type": "stream",
     "text": [
      "Enter a ractangle length: 4\n",
      "Enter a rectangle width: 6\n",
      "Rectangle area : 24\n"
     ]
    }
   ],
   "source": [
    "# (23) Write a Python class named Rectangle constructed by a length and width and a method which will compute the area of a\n",
    "#                                                                                               rectangle \n",
    "\n",
    "class rectangle():\n",
    "    def __init__(self):\n",
    "        self.length = int(input(\"Enter a ractangle length: \")) \n",
    "        self.width = int(input(\"Enter a rectangle width: \"))\n",
    "        \n",
    "    def area(self):\n",
    "        self.area = self.length * self.width      # rectangle formulla \n",
    "        print(f\"Rectangle area : {self.area}\")\n",
    "\n",
    "rect = rectangle()\n",
    "rect.area()\n"
   ]
  },
  {
   "cell_type": "code",
   "execution_count": 2,
   "id": "516d0633",
   "metadata": {},
   "outputs": [
    {
     "name": "stdout",
     "output_type": "stream",
     "text": [
      "Enter a circle radius : 8\n",
      "Circle area : 200.96\n",
      "Circle perimeter: 50.24\n"
     ]
    }
   ],
   "source": [
    "# (24) Write a Python class named Circle constructed by a radius and two methods which will compute the area and the perimeter\n",
    "#                                                                                                           of a circle \n",
    "\n",
    "class circle():\n",
    "    def __init__(self):\n",
    "        self.radius = int(input(\"Enter a circle radius : \"))\n",
    "        \n",
    "    def area(self):\n",
    "        self.area = 3.14 * self.radius * self.radius       # circle area formulla \n",
    "        print(f\"Circle area : {self.area}\")\n",
    "        \n",
    "    def perimeter(self):\n",
    "        self.perimeter = 2 * 3.14 * self.radius\n",
    "        print(f\"Circle perimeter: {self.perimeter}\")\n",
    "        \n",
    "cir = circle()\n",
    "cir.area()\n",
    "cir.perimeter()\n"
   ]
  },
  {
   "cell_type": "code",
   "execution_count": null,
   "id": "8b1e330a",
   "metadata": {},
   "outputs": [],
   "source": [
    "# (25) Explain Inheritance in Python with an example? What is init? Or What Is A Constructor In Python? \n",
    "\n",
    "#                      Let us see an example of simple Python inheritance in which a child class is inheriting \n",
    "#                      the properties of its parent class.\n",
    "#                      In this example, ‘Person’ is the parent class, and ‘Employee’ is its child class.\n",
    "\n",
    "\n",
    "#                       Constructors are generally used for instantiating an object. \n",
    "#                       The task of constructors is to initialize(assign values) to the data members of \n",
    "#                       the class when an object of the class is created.\n",
    "#                       In Python the __init__() method is called the constructor and is always called when an object is created."
   ]
  },
  {
   "cell_type": "code",
   "execution_count": null,
   "id": "071f8b29",
   "metadata": {},
   "outputs": [],
   "source": [
    "# (26) What is Instantiation in terms of OOP terminology?\n",
    "\n",
    "#                         Instantiate (a verb) and instantiation (the noun) in computer science refer to\n",
    "#                         the creation of an object (or an “instance” of a given class) in \n",
    "#                         an object-oriented programming (OOP) language. Referencing a class declaration,\n",
    "#                         an instantiated object is named and created, in memory or on disk."
   ]
  },
  {
   "cell_type": "code",
   "execution_count": null,
   "id": "265198ff",
   "metadata": {},
   "outputs": [],
   "source": [
    "# (27) What is used to check whether an object o is an instance of class A?\n",
    "\n",
    "#                         Conclusion. The `isinstance()` function can be used to check \n",
    "#                         if an object is an instance of a particular class.                          "
   ]
  },
  {
   "cell_type": "code",
   "execution_count": null,
   "id": "eef78935",
   "metadata": {},
   "outputs": [],
   "source": [
    "# (28) What relationship is appropriate for Course and Faculty?\n",
    "\n",
    "#               Company and Employee\n",
    "#               Course and Faculty\n",
    "#               Student and Person\n",
    "#               House and Window\n",
    "#               Account and Savings Account"
   ]
  },
  {
   "cell_type": "code",
   "execution_count": null,
   "id": "24027022",
   "metadata": {},
   "outputs": [],
   "source": [
    "# (29) What relationship is appropriate for Student and Person? \n",
    "\n",
    "#            inheritance"
   ]
  }
 ],
 "metadata": {
  "kernelspec": {
   "display_name": "Python 3 (ipykernel)",
   "language": "python",
   "name": "python3"
  },
  "language_info": {
   "codemirror_mode": {
    "name": "ipython",
    "version": 3
   },
   "file_extension": ".py",
   "mimetype": "text/x-python",
   "name": "python",
   "nbconvert_exporter": "python",
   "pygments_lexer": "ipython3",
   "version": "3.10.9"
  }
 },
 "nbformat": 4,
 "nbformat_minor": 5
}
